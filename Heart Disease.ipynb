{
 "cells": [
  {
   "cell_type": "markdown",
   "metadata": {
    "toc": true
   },
   "source": [
    "<h1>Table of Contents<span class=\"tocSkip\"></span></h1>\n",
    "<div class=\"toc\"><ul class=\"toc-item\"><li><span><a href=\"#Setup\" data-toc-modified-id=\"Setup-1\"><span class=\"toc-item-num\">1&nbsp;&nbsp;</span>Setup</a></span></li><li><span><a href=\"#Visualizations\" data-toc-modified-id=\"Visualizations-2\"><span class=\"toc-item-num\">2&nbsp;&nbsp;</span>Visualizations</a></span><ul class=\"toc-item\"><li><span><a href=\"#Gender-vs-Heart-Disease\" data-toc-modified-id=\"Gender-vs-Heart-Disease-2.1\"><span class=\"toc-item-num\">2.1&nbsp;&nbsp;</span>Gender vs Heart Disease</a></span></li><li><span><a href=\"#Thal-vs-Heart-Disease\" data-toc-modified-id=\"Thal-vs-Heart-Disease-2.2\"><span class=\"toc-item-num\">2.2&nbsp;&nbsp;</span>Thal vs Heart Disease</a></span></li><li><span><a href=\"#Age-vs-Heart-Disease\" data-toc-modified-id=\"Age-vs-Heart-Disease-2.3\"><span class=\"toc-item-num\">2.3&nbsp;&nbsp;</span>Age vs Heart Disease</a></span></li></ul></li><li><span><a href=\"#Modeling\" data-toc-modified-id=\"Modeling-3\"><span class=\"toc-item-num\">3&nbsp;&nbsp;</span>Modeling</a></span><ul class=\"toc-item\"><li><span><a href=\"#Model-Base\" data-toc-modified-id=\"Model-Base-3.1\"><span class=\"toc-item-num\">3.1&nbsp;&nbsp;</span>Model Base</a></span></li><li><span><a href=\"#Model-Tuning\" data-toc-modified-id=\"Model-Tuning-3.2\"><span class=\"toc-item-num\">3.2&nbsp;&nbsp;</span>Model Tuning</a></span></li><li><span><a href=\"#Best-Model\" data-toc-modified-id=\"Best-Model-3.3\"><span class=\"toc-item-num\">3.3&nbsp;&nbsp;</span>Best Model</a></span></li></ul></li><li><span><a href=\"#Conclusion\" data-toc-modified-id=\"Conclusion-4\"><span class=\"toc-item-num\">4&nbsp;&nbsp;</span>Conclusion</a></span></li></ul></div>"
   ]
  },
  {
   "cell_type": "markdown",
   "metadata": {},
   "source": [
    "<font size=\"6\">**Final Project Submission**</font>\n",
    "\n",
    "\n",
    "Please fill out:\n",
    "* Student name: Andy Peng\n",
    "* Student pace: part time\n",
    "* Scheduled project review date/time: Monday. July 13, 2020\n",
    "* Instructor name: Eli Thomas\n",
    "* Blog post URL:"
   ]
  },
  {
   "cell_type": "markdown",
   "metadata": {},
   "source": [
    "I am tasked to investigate heart diseases for a hospital. For this project we will be looking at a data set of patients in a hospital some with heart diseases and some without heart diseases. The main goal of this project is to keep an eye out for certain features that will allow us to categorize this patient as having heart disease."
   ]
  },
  {
   "cell_type": "markdown",
   "metadata": {},
   "source": [
    "# Setup"
   ]
  },
  {
   "cell_type": "code",
   "execution_count": 1,
   "metadata": {},
   "outputs": [],
   "source": [
    "import pandas as pd\n",
    "import seaborn as sns\n",
    "import matplotlib.pyplot as plt\n",
    "import statsmodels.api as sm\n",
    "import numpy as np\n",
    "from itertools import combinations\n",
    "from sklearn.linear_model import LinearRegression\n",
    "from sklearn.model_selection import cross_val_score\n",
    "from sklearn.model_selection import KFold\n",
    "from sklearn.model_selection import train_test_split, GridSearchCV, cross_val_score\n",
    "from sklearn.metrics import mean_squared_error\n",
    "from scipy import stats\n",
    "import matplotlib.cm as cm\n",
    "from sklearn.linear_model import LinearRegression\n",
    "from sklearn.preprocessing import MinMaxScaler, StandardScaler\n",
    "from sklearn.linear_model import Lasso, Ridge, LinearRegression\n",
    "from sklearn.linear_model import LogisticRegression\n",
    "from sklearn.metrics import roc_curve, auc, precision_score, recall_score, accuracy_score, f1_score, confusion_matrix, classification_report\n",
    "from sklearn.neighbors import KNeighborsClassifier\n",
    "from sklearn.tree import DecisionTreeClassifier \n",
    "from sklearn.ensemble import BaggingClassifier, RandomForestClassifier\n",
    "from xgboost import XGBClassifier\n",
    "from sklearn.pipeline import Pipeline\n",
    "def print_metrics(labels, preds):\n",
    "    print(\"Precision Score: {}\".format(precision_score(labels, preds)))\n",
    "    print(\"Recall Score: {}\".format(recall_score(labels, preds)))\n",
    "    print(\"Accuracy Score: {}\".format(accuracy_score(labels, preds)))\n",
    "    print(\"F1 Score: {}\".format(f1_score(labels, preds)))\n",
    "def find_best_k(X_train, y_train, X_test, y_test, min_k=1, max_k=25):\n",
    "    # Your code here\n",
    "    best_score = 0\n",
    "    best_k = 0\n",
    "    \n",
    "    for i in range(min_k, max_k+1, 2):    \n",
    "        # Instantiate KNeighborsClassifier\n",
    "        clf = KNeighborsClassifier(n_neighbors=i)\n",
    "\n",
    "        # Fit the classifier\n",
    "        clf.fit(X_train_transformed, y_train)\n",
    "\n",
    "        # Predict on the test set\n",
    "        test_preds = clf.predict(X_test_transformed)\n",
    "        val = f1_score(y_test, test_preds)\n",
    "        if val > best_score:\n",
    "            best_score = val\n",
    "            best_k = i\n",
    "        else:\n",
    "            pass\n",
    "    print('Best Value for k:', best_k)\n",
    "    print('F1-Score:', best_score)\n",
    "def plot_feature_importances(model):\n",
    "    n_features = X_train.shape[1]\n",
    "    plt.figure(figsize=(8,8))\n",
    "    plt.barh(range(n_features), model.feature_importances_, align='center') \n",
    "    plt.yticks(np.arange(n_features), X_train.columns.values) \n",
    "    plt.xlabel('Feature importance')\n",
    "    plt.ylabel('Feature')"
   ]
  },
  {
   "cell_type": "code",
   "execution_count": 2,
   "metadata": {},
   "outputs": [
    {
     "data": {
      "text/html": [
       "<div>\n",
       "<style scoped>\n",
       "    .dataframe tbody tr th:only-of-type {\n",
       "        vertical-align: middle;\n",
       "    }\n",
       "\n",
       "    .dataframe tbody tr th {\n",
       "        vertical-align: top;\n",
       "    }\n",
       "\n",
       "    .dataframe thead th {\n",
       "        text-align: right;\n",
       "    }\n",
       "</style>\n",
       "<table border=\"1\" class=\"dataframe\">\n",
       "  <thead>\n",
       "    <tr style=\"text-align: right;\">\n",
       "      <th></th>\n",
       "      <th>age</th>\n",
       "      <th>sex</th>\n",
       "      <th>cp</th>\n",
       "      <th>trestbps</th>\n",
       "      <th>chol</th>\n",
       "      <th>fbs</th>\n",
       "      <th>restecg</th>\n",
       "      <th>thalach</th>\n",
       "      <th>exang</th>\n",
       "      <th>oldpeak</th>\n",
       "      <th>slope</th>\n",
       "      <th>ca</th>\n",
       "      <th>thal</th>\n",
       "      <th>target</th>\n",
       "    </tr>\n",
       "  </thead>\n",
       "  <tbody>\n",
       "    <tr>\n",
       "      <td>0</td>\n",
       "      <td>63</td>\n",
       "      <td>1</td>\n",
       "      <td>3</td>\n",
       "      <td>145</td>\n",
       "      <td>233</td>\n",
       "      <td>1</td>\n",
       "      <td>0</td>\n",
       "      <td>150</td>\n",
       "      <td>0</td>\n",
       "      <td>2.3</td>\n",
       "      <td>0</td>\n",
       "      <td>0</td>\n",
       "      <td>1</td>\n",
       "      <td>1</td>\n",
       "    </tr>\n",
       "    <tr>\n",
       "      <td>1</td>\n",
       "      <td>37</td>\n",
       "      <td>1</td>\n",
       "      <td>2</td>\n",
       "      <td>130</td>\n",
       "      <td>250</td>\n",
       "      <td>0</td>\n",
       "      <td>1</td>\n",
       "      <td>187</td>\n",
       "      <td>0</td>\n",
       "      <td>3.5</td>\n",
       "      <td>0</td>\n",
       "      <td>0</td>\n",
       "      <td>2</td>\n",
       "      <td>1</td>\n",
       "    </tr>\n",
       "    <tr>\n",
       "      <td>2</td>\n",
       "      <td>41</td>\n",
       "      <td>0</td>\n",
       "      <td>1</td>\n",
       "      <td>130</td>\n",
       "      <td>204</td>\n",
       "      <td>0</td>\n",
       "      <td>0</td>\n",
       "      <td>172</td>\n",
       "      <td>0</td>\n",
       "      <td>1.4</td>\n",
       "      <td>2</td>\n",
       "      <td>0</td>\n",
       "      <td>2</td>\n",
       "      <td>1</td>\n",
       "    </tr>\n",
       "    <tr>\n",
       "      <td>3</td>\n",
       "      <td>56</td>\n",
       "      <td>1</td>\n",
       "      <td>1</td>\n",
       "      <td>120</td>\n",
       "      <td>236</td>\n",
       "      <td>0</td>\n",
       "      <td>1</td>\n",
       "      <td>178</td>\n",
       "      <td>0</td>\n",
       "      <td>0.8</td>\n",
       "      <td>2</td>\n",
       "      <td>0</td>\n",
       "      <td>2</td>\n",
       "      <td>1</td>\n",
       "    </tr>\n",
       "    <tr>\n",
       "      <td>4</td>\n",
       "      <td>57</td>\n",
       "      <td>0</td>\n",
       "      <td>0</td>\n",
       "      <td>120</td>\n",
       "      <td>354</td>\n",
       "      <td>0</td>\n",
       "      <td>1</td>\n",
       "      <td>163</td>\n",
       "      <td>1</td>\n",
       "      <td>0.6</td>\n",
       "      <td>2</td>\n",
       "      <td>0</td>\n",
       "      <td>2</td>\n",
       "      <td>1</td>\n",
       "    </tr>\n",
       "  </tbody>\n",
       "</table>\n",
       "</div>"
      ],
      "text/plain": [
       "   age  sex  cp  trestbps  chol  fbs  restecg  thalach  exang  oldpeak  slope  \\\n",
       "0   63    1   3       145   233    1        0      150      0      2.3      0   \n",
       "1   37    1   2       130   250    0        1      187      0      3.5      0   \n",
       "2   41    0   1       130   204    0        0      172      0      1.4      2   \n",
       "3   56    1   1       120   236    0        1      178      0      0.8      2   \n",
       "4   57    0   0       120   354    0        1      163      1      0.6      2   \n",
       "\n",
       "   ca  thal  target  \n",
       "0   0     1       1  \n",
       "1   0     2       1  \n",
       "2   0     2       1  \n",
       "3   0     2       1  \n",
       "4   0     2       1  "
      ]
     },
     "execution_count": 2,
     "metadata": {},
     "output_type": "execute_result"
    }
   ],
   "source": [
    "df = pd.read_csv('datasets_33180_43520_heart.csv')\n",
    "df.head()"
   ]
  },
  {
   "cell_type": "code",
   "execution_count": 3,
   "metadata": {},
   "outputs": [
    {
     "data": {
      "text/plain": [
       "age         False\n",
       "sex         False\n",
       "cp          False\n",
       "trestbps    False\n",
       "chol        False\n",
       "fbs         False\n",
       "restecg     False\n",
       "thalach     False\n",
       "exang       False\n",
       "oldpeak     False\n",
       "slope       False\n",
       "ca          False\n",
       "thal        False\n",
       "target      False\n",
       "dtype: bool"
      ]
     },
     "execution_count": 3,
     "metadata": {},
     "output_type": "execute_result"
    }
   ],
   "source": [
    "# Checking for Null Values\n",
    "df.isna().any()"
   ]
  },
  {
   "cell_type": "markdown",
   "metadata": {},
   "source": [
    "<font size=\"5\">**Column Descriptions**</font>\n",
    "* age\n",
    "* sex\n",
    "  * 1: Male\n",
    "  * 0: Female\n",
    "* chest pain type (4 values) (cp)\n",
    "  * Value 0: asymptomatic\n",
    "\n",
    "  * Value 1: atypical angina\n",
    "\n",
    "  * Value 2: non-anginal pain\n",
    "\n",
    "  * Value 3: typical angina\n",
    "\n",
    "* resting blood pressure (trestbps)\n",
    "* serum cholestoral in mg/dl (chol)\n",
    "* fasting blood sugar > 120 mg/dl (fbs)\n",
    "  * 0: False\n",
    "  * 1: True\n",
    "* resting electrocardiographic results (values 0,1,2) (restecg)\n",
    "  * Value 0: showing probable or definite left ventricular hypertrophy by Estes' criteria\n",
    "\n",
    "  * Value 1: normal\n",
    "\n",
    "  * Value 2: having ST-T wave abnormality (T wave inversions and/or ST elevation or depression of > 0.05 mV)\n",
    "* maximum heart rate achieved (thalach)\n",
    "* exercise induced angina (exang)\n",
    "  * 1: Yes\n",
    "  * 0: No\n",
    "* oldpeak = ST depression induced by exercise relative to rest \n",
    "* the slope of the peak exercise ST segment (slope)\n",
    "\n",
    "  * 0: downsloping\n",
    "\n",
    "  * 1: flat\n",
    "\n",
    "  * 2: upsloping\n",
    "* number of major vessels (0-3) colored by flourosopy (ca)\n",
    "* thal: thallium stress result\n",
    "  * 1: fixed defect; \n",
    "\n",
    "  * 2: normal; \n",
    "\n",
    "  * 3: reversible defect\n",
    "* target\n",
    "  * 0: disease\n",
    "  \n",
    "  * 1: No disease\n",
    "  \n",
    "For further documentation please refer to this [link](https://archive.ics.uci.edu/ml/datasets/Heart+Disease)"
   ]
  },
  {
   "cell_type": "code",
   "execution_count": 4,
   "metadata": {},
   "outputs": [
    {
     "data": {
      "text/html": [
       "<div>\n",
       "<style scoped>\n",
       "    .dataframe tbody tr th:only-of-type {\n",
       "        vertical-align: middle;\n",
       "    }\n",
       "\n",
       "    .dataframe tbody tr th {\n",
       "        vertical-align: top;\n",
       "    }\n",
       "\n",
       "    .dataframe thead th {\n",
       "        text-align: right;\n",
       "    }\n",
       "</style>\n",
       "<table border=\"1\" class=\"dataframe\">\n",
       "  <thead>\n",
       "    <tr style=\"text-align: right;\">\n",
       "      <th></th>\n",
       "      <th>age</th>\n",
       "      <th>sex</th>\n",
       "      <th>cp</th>\n",
       "      <th>trestbps</th>\n",
       "      <th>chol</th>\n",
       "      <th>fbs</th>\n",
       "      <th>restecg</th>\n",
       "      <th>thalach</th>\n",
       "      <th>exang</th>\n",
       "      <th>oldpeak</th>\n",
       "      <th>slope</th>\n",
       "      <th>ca</th>\n",
       "      <th>thal</th>\n",
       "      <th>target</th>\n",
       "    </tr>\n",
       "  </thead>\n",
       "  <tbody>\n",
       "    <tr>\n",
       "      <td>0</td>\n",
       "      <td>63</td>\n",
       "      <td>1</td>\n",
       "      <td>3</td>\n",
       "      <td>145</td>\n",
       "      <td>233</td>\n",
       "      <td>1</td>\n",
       "      <td>0</td>\n",
       "      <td>150</td>\n",
       "      <td>0</td>\n",
       "      <td>2.3</td>\n",
       "      <td>0</td>\n",
       "      <td>0</td>\n",
       "      <td>1</td>\n",
       "      <td>0</td>\n",
       "    </tr>\n",
       "    <tr>\n",
       "      <td>1</td>\n",
       "      <td>37</td>\n",
       "      <td>1</td>\n",
       "      <td>2</td>\n",
       "      <td>130</td>\n",
       "      <td>250</td>\n",
       "      <td>0</td>\n",
       "      <td>1</td>\n",
       "      <td>187</td>\n",
       "      <td>0</td>\n",
       "      <td>3.5</td>\n",
       "      <td>0</td>\n",
       "      <td>0</td>\n",
       "      <td>2</td>\n",
       "      <td>0</td>\n",
       "    </tr>\n",
       "    <tr>\n",
       "      <td>2</td>\n",
       "      <td>41</td>\n",
       "      <td>0</td>\n",
       "      <td>1</td>\n",
       "      <td>130</td>\n",
       "      <td>204</td>\n",
       "      <td>0</td>\n",
       "      <td>0</td>\n",
       "      <td>172</td>\n",
       "      <td>0</td>\n",
       "      <td>1.4</td>\n",
       "      <td>2</td>\n",
       "      <td>0</td>\n",
       "      <td>2</td>\n",
       "      <td>0</td>\n",
       "    </tr>\n",
       "    <tr>\n",
       "      <td>3</td>\n",
       "      <td>56</td>\n",
       "      <td>1</td>\n",
       "      <td>1</td>\n",
       "      <td>120</td>\n",
       "      <td>236</td>\n",
       "      <td>0</td>\n",
       "      <td>1</td>\n",
       "      <td>178</td>\n",
       "      <td>0</td>\n",
       "      <td>0.8</td>\n",
       "      <td>2</td>\n",
       "      <td>0</td>\n",
       "      <td>2</td>\n",
       "      <td>0</td>\n",
       "    </tr>\n",
       "    <tr>\n",
       "      <td>4</td>\n",
       "      <td>57</td>\n",
       "      <td>0</td>\n",
       "      <td>0</td>\n",
       "      <td>120</td>\n",
       "      <td>354</td>\n",
       "      <td>0</td>\n",
       "      <td>1</td>\n",
       "      <td>163</td>\n",
       "      <td>1</td>\n",
       "      <td>0.6</td>\n",
       "      <td>2</td>\n",
       "      <td>0</td>\n",
       "      <td>2</td>\n",
       "      <td>0</td>\n",
       "    </tr>\n",
       "  </tbody>\n",
       "</table>\n",
       "</div>"
      ],
      "text/plain": [
       "   age  sex  cp  trestbps  chol  fbs  restecg  thalach  exang  oldpeak  slope  \\\n",
       "0   63    1   3       145   233    1        0      150      0      2.3      0   \n",
       "1   37    1   2       130   250    0        1      187      0      3.5      0   \n",
       "2   41    0   1       130   204    0        0      172      0      1.4      2   \n",
       "3   56    1   1       120   236    0        1      178      0      0.8      2   \n",
       "4   57    0   0       120   354    0        1      163      1      0.6      2   \n",
       "\n",
       "   ca  thal  target  \n",
       "0   0     1       0  \n",
       "1   0     2       0  \n",
       "2   0     2       0  \n",
       "3   0     2       0  \n",
       "4   0     2       0  "
      ]
     },
     "execution_count": 4,
     "metadata": {},
     "output_type": "execute_result"
    }
   ],
   "source": [
    "df.target = df.target.replace({0:1, 1:0})\n",
    "df.head()"
   ]
  },
  {
   "cell_type": "markdown",
   "metadata": {},
   "source": [
    "The code above is use to swap the target values around so that we can easily interpret the data.\n",
    "\n",
    "* 0: No Disease\n",
    "\n",
    "* 1: Disease"
   ]
  },
  {
   "cell_type": "code",
   "execution_count": 5,
   "metadata": {},
   "outputs": [
    {
     "data": {
      "text/plain": [
       "0    175\n",
       "1     65\n",
       "2     38\n",
       "3     20\n",
       "4      5\n",
       "Name: ca, dtype: int64"
      ]
     },
     "execution_count": 5,
     "metadata": {},
     "output_type": "execute_result"
    }
   ],
   "source": [
    "df.ca.value_counts()"
   ]
  },
  {
   "cell_type": "markdown",
   "metadata": {},
   "source": [
    "We see that ca which represents the number of major vessels colored by flourosopy has values of 4, when the values are suppose to go from 0-3. Therefore we will be dropping these 5 data points."
   ]
  },
  {
   "cell_type": "code",
   "execution_count": 6,
   "metadata": {},
   "outputs": [],
   "source": [
    "df = df[df.ca != 4]"
   ]
  },
  {
   "cell_type": "code",
   "execution_count": 7,
   "metadata": {},
   "outputs": [
    {
     "data": {
      "text/plain": [
       "2    163\n",
       "3    115\n",
       "1     18\n",
       "0      2\n",
       "Name: thal, dtype: int64"
      ]
     },
     "execution_count": 7,
     "metadata": {},
     "output_type": "execute_result"
    }
   ],
   "source": [
    "df.thal.value_counts()"
   ]
  },
  {
   "cell_type": "markdown",
   "metadata": {},
   "source": [
    "According to the research of our data set, thal which represents Thalium, a radioactive tracer injected during a stress test. This chemical combined with a camera to take an image of the heart is used to detect the status of your heart. As mentioned above values 1, 2 and 3 are used only. Therefore we will be dropping the 2 values of 0."
   ]
  },
  {
   "cell_type": "code",
   "execution_count": 8,
   "metadata": {},
   "outputs": [],
   "source": [
    "df = df[df.thal != 0]"
   ]
  },
  {
   "cell_type": "code",
   "execution_count": 9,
   "metadata": {},
   "outputs": [
    {
     "name": "stdout",
     "output_type": "stream",
     "text": [
      "<class 'pandas.core.frame.DataFrame'>\n",
      "Int64Index: 296 entries, 0 to 302\n",
      "Data columns (total 14 columns):\n",
      "age         296 non-null int64\n",
      "sex         296 non-null int64\n",
      "cp          296 non-null int64\n",
      "trestbps    296 non-null int64\n",
      "chol        296 non-null int64\n",
      "fbs         296 non-null int64\n",
      "restecg     296 non-null int64\n",
      "thalach     296 non-null int64\n",
      "exang       296 non-null int64\n",
      "oldpeak     296 non-null float64\n",
      "slope       296 non-null int64\n",
      "ca          296 non-null int64\n",
      "thal        296 non-null int64\n",
      "target      296 non-null int64\n",
      "dtypes: float64(1), int64(13)\n",
      "memory usage: 34.7 KB\n"
     ]
    }
   ],
   "source": [
    "df.info()"
   ]
  },
  {
   "cell_type": "markdown",
   "metadata": {},
   "source": [
    "We need to convert the following variables to categorical variables.\n",
    "\n",
    "* sex\n",
    "* chest pain type (cp)\n",
    "* fasting blood sugar > 120 mg/dl (fbs)\n",
    "* resting electrocardiographic results (restecg)\n",
    "* exercise induced angina (exang)\n",
    "* the slope of the peak exercise ST segment (slope)\n",
    "* number of major vessels (0-3) colored by flourosopy (ca)\n",
    "* thal\n",
    "* target"
   ]
  },
  {
   "cell_type": "code",
   "execution_count": 10,
   "metadata": {},
   "outputs": [
    {
     "name": "stdout",
     "output_type": "stream",
     "text": [
      "<class 'pandas.core.frame.DataFrame'>\n",
      "Int64Index: 296 entries, 0 to 302\n",
      "Data columns (total 14 columns):\n",
      "age         296 non-null int64\n",
      "sex         296 non-null category\n",
      "cp          296 non-null category\n",
      "trestbps    296 non-null int64\n",
      "chol        296 non-null int64\n",
      "fbs         296 non-null category\n",
      "restecg     296 non-null category\n",
      "thalach     296 non-null int64\n",
      "exang       296 non-null category\n",
      "oldpeak     296 non-null float64\n",
      "slope       296 non-null category\n",
      "ca          296 non-null category\n",
      "thal        296 non-null category\n",
      "target      296 non-null category\n",
      "dtypes: category(9), float64(1), int64(4)\n",
      "memory usage: 17.5 KB\n"
     ]
    }
   ],
   "source": [
    "cat = ['sex', 'cp', 'fbs', 'restecg', 'exang', 'slope', 'ca', 'thal', 'target']\n",
    "for column in cat:\n",
    "    df[column] = pd.Categorical(df[column])\n",
    "df.info()"
   ]
  },
  {
   "cell_type": "code",
   "execution_count": 11,
   "metadata": {},
   "outputs": [],
   "source": [
    "# Now to create dummy variables.\n",
    "target = df.target\n",
    "features = df.drop(columns = ['target'], axis = 1)\n",
    "features = pd.get_dummies(features)\n",
    "viz_df = pd.concat([features, target], axis = 1)"
   ]
  },
  {
   "cell_type": "code",
   "execution_count": 12,
   "metadata": {},
   "outputs": [
    {
     "name": "stdout",
     "output_type": "stream",
     "text": [
      "<class 'pandas.core.frame.DataFrame'>\n",
      "Int64Index: 296 entries, 0 to 302\n",
      "Data columns (total 29 columns):\n",
      "age          296 non-null int64\n",
      "trestbps     296 non-null int64\n",
      "chol         296 non-null int64\n",
      "thalach      296 non-null int64\n",
      "oldpeak      296 non-null float64\n",
      "sex_0        296 non-null uint8\n",
      "sex_1        296 non-null uint8\n",
      "cp_0         296 non-null uint8\n",
      "cp_1         296 non-null uint8\n",
      "cp_2         296 non-null uint8\n",
      "cp_3         296 non-null uint8\n",
      "fbs_0        296 non-null uint8\n",
      "fbs_1        296 non-null uint8\n",
      "restecg_0    296 non-null uint8\n",
      "restecg_1    296 non-null uint8\n",
      "restecg_2    296 non-null uint8\n",
      "exang_0      296 non-null uint8\n",
      "exang_1      296 non-null uint8\n",
      "slope_0      296 non-null uint8\n",
      "slope_1      296 non-null uint8\n",
      "slope_2      296 non-null uint8\n",
      "ca_0         296 non-null uint8\n",
      "ca_1         296 non-null uint8\n",
      "ca_2         296 non-null uint8\n",
      "ca_3         296 non-null uint8\n",
      "thal_1       296 non-null uint8\n",
      "thal_2       296 non-null uint8\n",
      "thal_3       296 non-null uint8\n",
      "target       296 non-null category\n",
      "dtypes: category(1), float64(1), int64(4), uint8(23)\n",
      "memory usage: 20.9 KB\n"
     ]
    }
   ],
   "source": [
    "viz_df.info()"
   ]
  },
  {
   "cell_type": "markdown",
   "metadata": {},
   "source": [
    "# Visualizations"
   ]
  },
  {
   "cell_type": "markdown",
   "metadata": {},
   "source": [
    "## Gender vs Heart Disease"
   ]
  },
  {
   "cell_type": "code",
   "execution_count": 13,
   "metadata": {},
   "outputs": [
    {
     "data": {
      "image/png": "[encoded data removed]",
      "text/plain": [
       "<Figure size 432x288 with 1 Axes>"
      ]
     },
     "metadata": {
      "needs_background": "light"
     },
     "output_type": "display_data"
    }
   ],
   "source": [
    "ct = pd.crosstab(df.sex, df.target)\n",
    "ct.plot.bar()\n",
    "plt.xlabel('Gender', fontsize = 15)\n",
    "plt.ylabel('Amount', fontsize = 15)\n",
    "plt.title('Gender VS Heart Disease', fontsize = 15)\n",
    "#Change the x axis labels from 0 & 1 to female and male\n",
    "gender_ticks = ['Female', 'Male']\n",
    "plt.xticks([0, 1], gender_ticks, rotation = 0, fontsize = 12)\n",
    "#Change the target labels to disease or no disease\n",
    "L = plt.legend()\n",
    "L.get_texts()[1].set_text('Heart Disease')\n",
    "L.get_texts()[0].set_text('No Heart Disease')\n",
    "plt.show()"
   ]
  },
  {
   "cell_type": "markdown",
   "metadata": {},
   "source": [
    "We can see above that there are more males than females that have heart disease. Now let's investigate more on what feature stands out more in the individuals with heart disease."
   ]
  },
  {
   "cell_type": "code",
   "execution_count": 14,
   "metadata": {},
   "outputs": [],
   "source": [
    "df_disease = df[df['target'] == 1]"
   ]
  },
  {
   "cell_type": "code",
   "execution_count": 15,
   "metadata": {},
   "outputs": [
    {
     "data": {
      "text/plain": [
       "0    21\n",
       "1     2\n",
       "2     1\n",
       "3     0\n",
       "Name: cp, dtype: int64"
      ]
     },
     "execution_count": 15,
     "metadata": {},
     "output_type": "execute_result"
    }
   ],
   "source": [
    "# Female\n",
    "df_disease[df_disease['sex'] == 0].cp.value_counts()"
   ]
  },
  {
   "cell_type": "code",
   "execution_count": 16,
   "metadata": {},
   "outputs": [
    {
     "data": {
      "text/plain": [
       "0    81\n",
       "2    17\n",
       "3     7\n",
       "1     7\n",
       "Name: cp, dtype: int64"
      ]
     },
     "execution_count": 16,
     "metadata": {},
     "output_type": "execute_result"
    }
   ],
   "source": [
    "# Male\n",
    "df_disease[df_disease['sex'] == 1].cp.value_counts()"
   ]
  },
  {
   "cell_type": "markdown",
   "metadata": {},
   "source": [
    "The value counts for chest pain in individuals with heart disease is shown above. We can see that the value 0 or Asymptomatic chest pains appear the most in individuals with heart disease. And the graph below we can see that individuals with heart disease tend to have asymptomatic chest pains."
   ]
  },
  {
   "cell_type": "code",
   "execution_count": 17,
   "metadata": {},
   "outputs": [
    {
     "data": {
      "image/png": "[encoded data removed]",
      "text/plain": [
       "<Figure size 432x288 with 1 Axes>"
      ]
     },
     "metadata": {
      "needs_background": "light"
     },
     "output_type": "display_data"
    }
   ],
   "source": [
    "ct = pd.crosstab(df.cp, df.target)\n",
    "ct.plot.bar()\n",
    "plt.xlabel('Chest Pain Type', fontsize = 15)\n",
    "plt.ylabel('Amount', fontsize = 15)\n",
    "plt.title('Chest Pain VS Heart Disease', fontsize = 15)\n",
    "gender_ticks = ['Asymptomatic', 'Atypical Angina', 'Non-Anginal Pain', 'Typical Angina']\n",
    "plt.xticks([0, 1, 2, 3], gender_ticks, rotation = 10, fontsize = 12)\n",
    "L = plt.legend()\n",
    "L.get_texts()[1].set_text('Heart Disease')\n",
    "L.get_texts()[0].set_text('No Heart Disease')"
   ]
  },
  {
   "cell_type": "markdown",
   "metadata": {},
   "source": [
    "## Thal vs Heart Disease"
   ]
  },
  {
   "cell_type": "code",
   "execution_count": 18,
   "metadata": {},
   "outputs": [
    {
     "data": {
      "image/png": "[encoded data removed]",
      "text/plain": [
       "<Figure size 432x288 with 1 Axes>"
      ]
     },
     "metadata": {
      "needs_background": "light"
     },
     "output_type": "display_data"
    }
   ],
   "source": [
    "ct = pd.crosstab(df.thal, df.target)\n",
    "ct.plot.bar()\n",
    "plt.xlabel('Thallium Stress Result', fontsize = 15)\n",
    "plt.ylabel('Amount', fontsize = 15)\n",
    "plt.title('Thal VS Heart Disease', fontsize = 15)\n",
    "gender_ticks = ['fixed defect', 'normal', 'reversible defect']\n",
    "plt.xticks([0, 1, 2], gender_ticks, rotation = 0, fontsize = 12)\n",
    "L = plt.legend()\n",
    "L.get_texts()[1].set_text('Heart Disease')\n",
    "L.get_texts()[0].set_text('No Heart Disease')"
   ]
  },
  {
   "cell_type": "markdown",
   "metadata": {},
   "source": [
    "The bar graph above shows that individuals with thalium stress result as reversable defect tend to have a higher chance of having heart disease."
   ]
  },
  {
   "cell_type": "markdown",
   "metadata": {},
   "source": [
    "## Age vs Heart Disease"
   ]
  },
  {
   "cell_type": "code",
   "execution_count": 19,
   "metadata": {},
   "outputs": [
    {
     "data": {
      "text/plain": [
       "Text(0, 0.5, 'Target')"
      ]
     },
     "execution_count": 19,
     "metadata": {},
     "output_type": "execute_result"
    },
    {
     "data": {
      "image/png": "[encoded data removed]",
      "text/plain": [
       "<Figure size 432x288 with 1 Axes>"
      ]
     },
     "metadata": {
      "needs_background": "light"
     },
     "output_type": "display_data"
    }
   ],
   "source": [
    "sns.boxplot(x='age',y='target',data=df)\n",
    "plt.title('Age VS Heart Disease', fontsize = 15)\n",
    "plt.xlabel('Age', fontsize = 15)\n",
    "plt.ylabel('Target', fontsize = 15)"
   ]
  },
  {
   "cell_type": "markdown",
   "metadata": {},
   "source": [
    "We can see in the above graph that people with heart disease tend to be in older people. The lower interquartile range, median and the upper interquartile range tend to be higher than those of no disease. I then thought what comes along with old age, and wanted to investigate the maximum heart rate (thalach)."
   ]
  },
  {
   "cell_type": "code",
   "execution_count": 20,
   "metadata": {},
   "outputs": [
    {
     "data": {
      "text/plain": [
       "Text(0, 0.5, 'Target')"
      ]
     },
     "execution_count": 20,
     "metadata": {},
     "output_type": "execute_result"
    },
    {
     "data": {
      "image/png": "[encoded data removed]",
      "text/plain": [
       "<Figure size 432x288 with 1 Axes>"
      ]
     },
     "metadata": {
      "needs_background": "light"
     },
     "output_type": "display_data"
    }
   ],
   "source": [
    "sns.boxplot(x='thalach',y='target',data=df)\n",
    "plt.title('Maximum Heart Rate VS Heart Disease', fontsize = 15)\n",
    "plt.xlabel('Maximum Heart Rate', fontsize = 15)\n",
    "plt.ylabel('Target', fontsize = 15)"
   ]
  },
  {
   "cell_type": "markdown",
   "metadata": {},
   "source": [
    "We see that people with heart disease do have a lower maximum heart rate."
   ]
  },
  {
   "cell_type": "code",
   "execution_count": 21,
   "metadata": {},
   "outputs": [
    {
     "name": "stderr",
     "output_type": "stream",
     "text": [
      "C:\\Users\\andyp\\AppData\\Local\\Continuum\\anaconda3\\envs\\learn-env\\lib\\site-packages\\seaborn\\axisgrid.py:230: UserWarning: The `size` paramter has been renamed to `height`; please update your code.\n",
      "  warnings.warn(msg, UserWarning)\n"
     ]
    },
    {
     "data": {
      "image/png": "[encoded data removed]",
      "text/plain": [
       "<Figure size 288x288 with 1 Axes>"
      ]
     },
     "metadata": {},
     "output_type": "display_data"
    }
   ],
   "source": [
    "sns.set_style(\"whitegrid\")\n",
    "sns.FacetGrid(df, hue=\"target\", size=4) \\\n",
    "   .map(plt.scatter, \"age\", \"thalach\")\n",
    "plt.title('Age VS Maximum Heart rate', fontsize = 15)\n",
    "plt.xlabel('Age', fontsize = 15)\n",
    "plt.ylabel('Maximum Heart Rate', fontsize = 15)\n",
    "L = plt.legend()\n",
    "L.get_texts()[1].set_text('Heart Disease')\n",
    "L.get_texts()[0].set_text('No Heart Disease')\n",
    "plt.show()"
   ]
  },
  {
   "cell_type": "markdown",
   "metadata": {},
   "source": [
    "Now let's look at a scatter plot of age versus the maximum heart rate grouped by people with heart disease. As you can see above as you get older, your maximum heart rate decreases. Notice that majority of the people with heart disease tend to have a lower maximum heart rate and are older."
   ]
  },
  {
   "cell_type": "markdown",
   "metadata": {},
   "source": [
    "# Modeling"
   ]
  },
  {
   "cell_type": "code",
   "execution_count": 22,
   "metadata": {},
   "outputs": [],
   "source": [
    "X_train , X_test, y_train, y_test = train_test_split(features, target, test_size=0.2, random_state=12)"
   ]
  },
  {
   "cell_type": "code",
   "execution_count": 23,
   "metadata": {},
   "outputs": [],
   "source": [
    "scale = MinMaxScaler()\n",
    "X_train_transformed = scale.fit_transform(X_train)\n",
    "X_test_transformed = scale.transform(X_test)"
   ]
  },
  {
   "cell_type": "markdown",
   "metadata": {},
   "source": [
    "We want lower amount of False Negatives because we don't want to say that they don't have heart disease when they do have heart disease."
   ]
  },
  {
   "cell_type": "markdown",
   "metadata": {},
   "source": [
    "## Model Base"
   ]
  },
  {
   "cell_type": "code",
   "execution_count": 24,
   "metadata": {},
   "outputs": [],
   "source": [
    "\n",
    "# Create a dictionary of classifiers\n",
    "clf_dict = {\n",
    "    'Logistic Regression': LogisticRegression(random_state = 10),\n",
    "    'K-Nearest Neighbours': KNeighborsClassifier(),\n",
    "    'Decision Tree': DecisionTreeClassifier(random_state = 10),\n",
    "    'Random Forrest': RandomForestClassifier(random_state = 10),\n",
    "    'XGBoost' : XGBClassifier()\n",
    "}"
   ]
  },
  {
   "cell_type": "code",
   "execution_count": 25,
   "metadata": {},
   "outputs": [],
   "source": [
    "# Define function to batch classify\n",
    "\n",
    "def batch_clf(X_train, y_train, X_test, y_test, clf_dict):\n",
    "    '''\n",
    "    Fits a dictionary of classifiers, makes predictions, plots ROC, returns metrics\n",
    "    \n",
    "    Args:\n",
    "        X_train: {array-like, sparse matrix} of shape (n_samples, n_features) train input values\n",
    "        y_train: array-like of shape (n_samples,) train target values\n",
    "        X_test: {array-like, sparse matrix} of shape (m_samples, m_features) test input values\n",
    "        y_test: array-like of shape (m_samples,) test target values\n",
    "        clf_dict: dictionary with key name of classifier and value classifier instance\n",
    "        \n",
    "    Returns:\n",
    "        Results dataframe\n",
    "    '''\n",
    "    # Create empty DataFrame to store results\n",
    "    train_acc_scores = []\n",
    "    test_acc_scores = []\n",
    "    train_f1_scores = []\n",
    "    test_f1_scores = []\n",
    "    train_precision_scores = []\n",
    "    test_precision_scores = []\n",
    "    train_recall_scores = []\n",
    "    test_recall_scores = []\n",
    "    test_roc_data = []\n",
    "    auc_scores = []\n",
    "    \n",
    "    # Loop through dictionary items\n",
    "    for key, clf in clf_dict.items():\n",
    "\n",
    "        # Fit classifier\n",
    "        clf_fitted = clf.fit(X_train,y_train)\n",
    "        \n",
    "        # Get Predictions\n",
    "        train_preds = clf_fitted.predict(X_train)\n",
    "        test_preds = clf_fitted.predict(X_test)\n",
    "  \n",
    "        \n",
    "        #Get accuracy scores\n",
    "        train_acc = accuracy_score(y_train, train_preds)\n",
    "        train_acc_scores.append(round(train_acc,2))\n",
    "        test_acc = accuracy_score(y_test, test_preds)\n",
    "        test_acc_scores.append(round(test_acc,2))\n",
    "        \n",
    "        #Get F1 Scores\n",
    "        train_f1 = f1_score(y_train, train_preds)\n",
    "        train_f1_scores.append(round(train_f1,2))\n",
    "        test_f1 = f1_score(y_test, test_preds)\n",
    "        test_f1_scores.append(round(test_f1,2))\n",
    "        \n",
    "        # Get Precision Scores\n",
    "        train_precision = precision_score(y_train, train_preds)\n",
    "        train_precision_scores.append(round(train_precision,2))\n",
    "        test_precision = precision_score(y_test, test_preds)\n",
    "        test_precision_scores.append(round(test_precision,2))\n",
    "        \n",
    "        # Get Recall Scores\n",
    "        train_recall = recall_score(y_train, train_preds)\n",
    "        train_recall_scores.append(round(train_recall,2))\n",
    "        test_recall = recall_score(y_test, test_preds)\n",
    "        test_recall_scores.append(round(test_recall,2))\n",
    "        \n",
    "        # Get Probability Predictions\n",
    "        test_hat = clf_fitted.predict_proba(X_test)\n",
    "        test_proba = test_hat[:,1]\n",
    "        fpr_test, tpr_test, thresholds_test = roc_curve(y_test, test_proba)\n",
    "        test_roc_data.append([fpr_test, tpr_test, thresholds_test])\n",
    "        \n",
    "        # AUC\n",
    "        auc_test = auc(fpr_test, tpr_test)\n",
    "        auc_scores.append(auc_test)\n",
    "    # Create results dataframe\n",
    "    results = pd.DataFrame({'Model': list(clf_dict.keys()), \n",
    "                            'Train Accuracy': train_acc_scores,\n",
    "                            'Test Accuracy': test_acc_scores, \n",
    "                            'Train F1': train_f1_scores,\n",
    "                            'Test F1': test_f1_scores,\n",
    "                            'Train Precision' : train_precision_scores,\n",
    "                            'Test Precision' : test_precision_scores,\n",
    "                            'Train Recall': train_recall_scores,\n",
    "                            'Test Recall': test_recall_scores,\n",
    "                            'AUC Score': auc_scores\n",
    "                            })\n",
    "    \n",
    "   # Plot side by side ROC curve\n",
    "    fig, ax = plt.subplots(figsize = (10,8))\n",
    "    \n",
    "    for i in range(len(test_roc_data)):\n",
    "        ax.plot(test_roc_data[i][0], test_roc_data[i][1], lw=4, \\\n",
    "                 label= f'{list(clf_dict.keys())[i]}')    \n",
    "        \n",
    "    ax.plot([0, 1], [0, 1], color='navy', lw=2, linestyle='--')\n",
    "    plt.xlim([0.0, 1.0])\n",
    "    plt.ylim([0.0, 1.05])\n",
    "    plt.yticks([i/20.0 for i in range(21)])\n",
    "    plt.xticks([i/20.0 for i in range(21)])\n",
    "    ax.set_xlabel('False Positive Rate')\n",
    "    ax.set_ylabel('True Positive Rate')\n",
    "    ax.legend(loc='lower right')\n",
    "    ax.set_title('Receiver operating characteristic (ROC) Curve \\n Test Set')\n",
    "    plt.show()\n",
    "\n",
    "    return results"
   ]
  },
  {
   "cell_type": "code",
   "execution_count": 26,
   "metadata": {},
   "outputs": [
    {
     "data": {
      "image/png": "[encoded data removed]",
      "text/plain": [
       "<Figure size 720x576 with 1 Axes>"
      ]
     },
     "metadata": {},
     "output_type": "display_data"
    },
    {
     "data": {
      "text/html": [
       "<div>\n",
       "<style scoped>\n",
       "    .dataframe tbody tr th:only-of-type {\n",
       "        vertical-align: middle;\n",
       "    }\n",
       "\n",
       "    .dataframe tbody tr th {\n",
       "        vertical-align: top;\n",
       "    }\n",
       "\n",
       "    .dataframe thead th {\n",
       "        text-align: right;\n",
       "    }\n",
       "</style>\n",
       "<table border=\"1\" class=\"dataframe\">\n",
       "  <thead>\n",
       "    <tr style=\"text-align: right;\">\n",
       "      <th></th>\n",
       "      <th>Model</th>\n",
       "      <th>Train Accuracy</th>\n",
       "      <th>Test Accuracy</th>\n",
       "      <th>Train F1</th>\n",
       "      <th>Test F1</th>\n",
       "      <th>Train Precision</th>\n",
       "      <th>Test Precision</th>\n",
       "      <th>Train Recall</th>\n",
       "      <th>Test Recall</th>\n",
       "      <th>AUC Score</th>\n",
       "    </tr>\n",
       "  </thead>\n",
       "  <tbody>\n",
       "    <tr>\n",
       "      <td>0</td>\n",
       "      <td>Logistic Regression</td>\n",
       "      <td>0.89</td>\n",
       "      <td>0.83</td>\n",
       "      <td>0.87</td>\n",
       "      <td>0.82</td>\n",
       "      <td>0.91</td>\n",
       "      <td>0.85</td>\n",
       "      <td>0.83</td>\n",
       "      <td>0.79</td>\n",
       "      <td>0.931034</td>\n",
       "    </tr>\n",
       "    <tr>\n",
       "      <td>1</td>\n",
       "      <td>K-Nearest Neighbours</td>\n",
       "      <td>0.89</td>\n",
       "      <td>0.80</td>\n",
       "      <td>0.88</td>\n",
       "      <td>0.79</td>\n",
       "      <td>0.92</td>\n",
       "      <td>0.81</td>\n",
       "      <td>0.84</td>\n",
       "      <td>0.76</td>\n",
       "      <td>0.894883</td>\n",
       "    </tr>\n",
       "    <tr>\n",
       "      <td>2</td>\n",
       "      <td>Decision Tree</td>\n",
       "      <td>1.00</td>\n",
       "      <td>0.75</td>\n",
       "      <td>1.00</td>\n",
       "      <td>0.74</td>\n",
       "      <td>1.00</td>\n",
       "      <td>0.75</td>\n",
       "      <td>1.00</td>\n",
       "      <td>0.72</td>\n",
       "      <td>0.749166</td>\n",
       "    </tr>\n",
       "    <tr>\n",
       "      <td>3</td>\n",
       "      <td>Random Forrest</td>\n",
       "      <td>1.00</td>\n",
       "      <td>0.80</td>\n",
       "      <td>1.00</td>\n",
       "      <td>0.78</td>\n",
       "      <td>1.00</td>\n",
       "      <td>0.84</td>\n",
       "      <td>1.00</td>\n",
       "      <td>0.72</td>\n",
       "      <td>0.927697</td>\n",
       "    </tr>\n",
       "    <tr>\n",
       "      <td>4</td>\n",
       "      <td>XGBoost</td>\n",
       "      <td>0.97</td>\n",
       "      <td>0.87</td>\n",
       "      <td>0.97</td>\n",
       "      <td>0.86</td>\n",
       "      <td>0.98</td>\n",
       "      <td>0.86</td>\n",
       "      <td>0.96</td>\n",
       "      <td>0.86</td>\n",
       "      <td>0.924360</td>\n",
       "    </tr>\n",
       "  </tbody>\n",
       "</table>\n",
       "</div>"
      ],
      "text/plain": [
       "                  Model  Train Accuracy  Test Accuracy  Train F1  Test F1  \\\n",
       "0   Logistic Regression            0.89           0.83      0.87     0.82   \n",
       "1  K-Nearest Neighbours            0.89           0.80      0.88     0.79   \n",
       "2         Decision Tree            1.00           0.75      1.00     0.74   \n",
       "3        Random Forrest            1.00           0.80      1.00     0.78   \n",
       "4               XGBoost            0.97           0.87      0.97     0.86   \n",
       "\n",
       "   Train Precision  Test Precision  Train Recall  Test Recall  AUC Score  \n",
       "0             0.91            0.85          0.83         0.79   0.931034  \n",
       "1             0.92            0.81          0.84         0.76   0.894883  \n",
       "2             1.00            0.75          1.00         0.72   0.749166  \n",
       "3             1.00            0.84          1.00         0.72   0.927697  \n",
       "4             0.98            0.86          0.96         0.86   0.924360  "
      ]
     },
     "execution_count": 26,
     "metadata": {},
     "output_type": "execute_result"
    }
   ],
   "source": [
    "results = batch_clf(X_train_transformed, y_train, X_test_transformed, y_test, clf_dict)\n",
    "results"
   ]
  },
  {
   "cell_type": "markdown",
   "metadata": {},
   "source": [
    "## Model Tuning"
   ]
  },
  {
   "cell_type": "code",
   "execution_count": 27,
   "metadata": {},
   "outputs": [],
   "source": [
    "# Define param grid\n",
    "RF_params = {\n",
    "    'clf__max_depth': [4, 5, 6, 10, 15],\n",
    "    'clf__criterion': ['gini', 'entropy'],\n",
    "    'clf__n_estimators': [100, 200, 300],\n",
    "    'clf__min_samples_split': [3, 5, 10],\n",
    "    'clf__min_samples_leaf': [3,4,6]\n",
    "}\n",
    "\n",
    "DT_params = {\n",
    "    'clf__max_depth': [5, 25, 50],\n",
    "    'clf__criterion': ['gini', 'entropy'],\n",
    "    'clf__min_samples_split': [3, 5, 10],\n",
    "}\n",
    "\n",
    "LR_params = {\n",
    "    'clf__solver': ['liblinear'],\n",
    "    'clf__C': [0.1, 1],\n",
    "}\n",
    "\n",
    "KNN_params = {\n",
    "    'clf__n_neighbors': [3, 5, 11, 15],\n",
    "    'clf__weights': ['uniform', 'distance'],\n",
    "    'clf__p': [1, 5]\n",
    "}\n",
    "\n",
    "XGB_params = {\n",
    "    'clf__n_estimators': [20, 50, 100, 200],\n",
    "    'clf__max_depth': [3, 5, 10, 15],\n",
    "    'clf__min_child_weight': [2, 3, 5]\n",
    "}"
   ]
  },
  {
   "cell_type": "code",
   "execution_count": 28,
   "metadata": {},
   "outputs": [],
   "source": [
    "# Create new empty dictionary\n",
    "tuning_clf_dict = {}\n",
    "\n",
    "for k,v in clf_dict.items():\n",
    "    tuning_clf_dict[k] = {}\n",
    "    # Add clfs\n",
    "    tuning_clf_dict[k]['clf'] = v\n",
    "    \n",
    "# Add Pipeline to nested dictionary\n",
    "for k in tuning_clf_dict.keys():\n",
    "    tuning_clf_dict[k]['pipeline'] = \\\n",
    "        Pipeline([('clf', tuning_clf_dict[k]['clf'])])\n",
    "    \n",
    "# Add param grid to nested dictionary\n",
    "\n",
    "# Add key param_grid and default empty dictionary value\n",
    "for k in tuning_clf_dict.keys():\n",
    "    tuning_clf_dict[k]['param_grid'] = {}\n",
    "\n",
    "# Reassign parameter grid to parametric classifiers\n",
    "tuning_clf_dict['Logistic Regression']['param_grid'] = LR_params\n",
    "tuning_clf_dict['Decision Tree']['param_grid'] = DT_params\n",
    "tuning_clf_dict['Random Forrest']['param_grid'] = RF_params\n",
    "tuning_clf_dict['K-Nearest Neighbours']['param_grid'] = KNN_params\n",
    "tuning_clf_dict['XGBoost']['param_grid'] = XGB_params   \n",
    "\n",
    "# Add RandomizedSearchCV to nested dictionary\n",
    "cv = 3\n",
    "scoring = 'recall'\n",
    "\n",
    "for k in tuning_clf_dict.keys():\n",
    "    tuning_clf_dict[k]['rscv'] = GridSearchCV(estimator = tuning_clf_dict[k]['pipeline'], \n",
    "                                        param_grid = tuning_clf_dict[k]['param_grid'],\n",
    "                                        scoring = scoring,\n",
    "                                        cv = cv)\n",
    "    \n",
    "# Create new dictionary with just clf names and randomizedsearch object\n",
    "# Allows it to be passed to existing batch_clf function\n",
    "\n",
    "rscv_dict = {}\n",
    "\n",
    "for k in tuning_clf_dict.keys():\n",
    "    rscv_dict[k] = tuning_clf_dict[k]['rscv']"
   ]
  },
  {
   "cell_type": "code",
   "execution_count": 29,
   "metadata": {},
   "outputs": [
    {
     "data": {
      "image/png": "[encoded data removed]",
      "text/plain": [
       "<Figure size 720x576 with 1 Axes>"
      ]
     },
     "metadata": {},
     "output_type": "display_data"
    },
    {
     "data": {
      "text/html": [
       "<div>\n",
       "<style scoped>\n",
       "    .dataframe tbody tr th:only-of-type {\n",
       "        vertical-align: middle;\n",
       "    }\n",
       "\n",
       "    .dataframe tbody tr th {\n",
       "        vertical-align: top;\n",
       "    }\n",
       "\n",
       "    .dataframe thead th {\n",
       "        text-align: right;\n",
       "    }\n",
       "</style>\n",
       "<table border=\"1\" class=\"dataframe\">\n",
       "  <thead>\n",
       "    <tr style=\"text-align: right;\">\n",
       "      <th></th>\n",
       "      <th>Model</th>\n",
       "      <th>Train Accuracy</th>\n",
       "      <th>Test Accuracy</th>\n",
       "      <th>Train F1</th>\n",
       "      <th>Test F1</th>\n",
       "      <th>Train Precision</th>\n",
       "      <th>Test Precision</th>\n",
       "      <th>Train Recall</th>\n",
       "      <th>Test Recall</th>\n",
       "      <th>AUC Score</th>\n",
       "    </tr>\n",
       "  </thead>\n",
       "  <tbody>\n",
       "    <tr>\n",
       "      <td>0</td>\n",
       "      <td>Logistic Regression</td>\n",
       "      <td>0.89</td>\n",
       "      <td>0.83</td>\n",
       "      <td>0.87</td>\n",
       "      <td>0.82</td>\n",
       "      <td>0.91</td>\n",
       "      <td>0.85</td>\n",
       "      <td>0.83</td>\n",
       "      <td>0.79</td>\n",
       "      <td>0.931034</td>\n",
       "    </tr>\n",
       "    <tr>\n",
       "      <td>1</td>\n",
       "      <td>K-Nearest Neighbours</td>\n",
       "      <td>0.89</td>\n",
       "      <td>0.82</td>\n",
       "      <td>0.87</td>\n",
       "      <td>0.81</td>\n",
       "      <td>0.90</td>\n",
       "      <td>0.82</td>\n",
       "      <td>0.84</td>\n",
       "      <td>0.79</td>\n",
       "      <td>0.895996</td>\n",
       "    </tr>\n",
       "    <tr>\n",
       "      <td>2</td>\n",
       "      <td>Decision Tree</td>\n",
       "      <td>0.94</td>\n",
       "      <td>0.80</td>\n",
       "      <td>0.93</td>\n",
       "      <td>0.77</td>\n",
       "      <td>0.93</td>\n",
       "      <td>0.87</td>\n",
       "      <td>0.93</td>\n",
       "      <td>0.69</td>\n",
       "      <td>0.845940</td>\n",
       "    </tr>\n",
       "    <tr>\n",
       "      <td>3</td>\n",
       "      <td>Random Forrest</td>\n",
       "      <td>0.90</td>\n",
       "      <td>0.78</td>\n",
       "      <td>0.89</td>\n",
       "      <td>0.75</td>\n",
       "      <td>0.94</td>\n",
       "      <td>0.83</td>\n",
       "      <td>0.84</td>\n",
       "      <td>0.69</td>\n",
       "      <td>0.935484</td>\n",
       "    </tr>\n",
       "    <tr>\n",
       "      <td>4</td>\n",
       "      <td>XGBoost</td>\n",
       "      <td>0.97</td>\n",
       "      <td>0.85</td>\n",
       "      <td>0.96</td>\n",
       "      <td>0.84</td>\n",
       "      <td>0.97</td>\n",
       "      <td>0.86</td>\n",
       "      <td>0.95</td>\n",
       "      <td>0.83</td>\n",
       "      <td>0.919911</td>\n",
       "    </tr>\n",
       "  </tbody>\n",
       "</table>\n",
       "</div>"
      ],
      "text/plain": [
       "                  Model  Train Accuracy  Test Accuracy  Train F1  Test F1  \\\n",
       "0   Logistic Regression            0.89           0.83      0.87     0.82   \n",
       "1  K-Nearest Neighbours            0.89           0.82      0.87     0.81   \n",
       "2         Decision Tree            0.94           0.80      0.93     0.77   \n",
       "3        Random Forrest            0.90           0.78      0.89     0.75   \n",
       "4               XGBoost            0.97           0.85      0.96     0.84   \n",
       "\n",
       "   Train Precision  Test Precision  Train Recall  Test Recall  AUC Score  \n",
       "0             0.91            0.85          0.83         0.79   0.931034  \n",
       "1             0.90            0.82          0.84         0.79   0.895996  \n",
       "2             0.93            0.87          0.93         0.69   0.845940  \n",
       "3             0.94            0.83          0.84         0.69   0.935484  \n",
       "4             0.97            0.86          0.95         0.83   0.919911  "
      ]
     },
     "execution_count": 29,
     "metadata": {},
     "output_type": "execute_result"
    }
   ],
   "source": [
    "rscv_results = batch_clf(X_train_transformed, y_train, X_test_transformed, y_test, rscv_dict)\n",
    "rscv_results"
   ]
  },
  {
   "cell_type": "markdown",
   "metadata": {},
   "source": [
    "## Best Model"
   ]
  },
  {
   "cell_type": "code",
   "execution_count": 43,
   "metadata": {},
   "outputs": [
    {
     "name": "stdout",
     "output_type": "stream",
     "text": [
      "Base Model\n"
     ]
    },
    {
     "data": {
      "text/html": [
       "<div>\n",
       "<style scoped>\n",
       "    .dataframe tbody tr th:only-of-type {\n",
       "        vertical-align: middle;\n",
       "    }\n",
       "\n",
       "    .dataframe tbody tr th {\n",
       "        vertical-align: top;\n",
       "    }\n",
       "\n",
       "    .dataframe thead th {\n",
       "        text-align: right;\n",
       "    }\n",
       "</style>\n",
       "<table border=\"1\" class=\"dataframe\">\n",
       "  <thead>\n",
       "    <tr style=\"text-align: right;\">\n",
       "      <th></th>\n",
       "      <th>Model</th>\n",
       "      <th>Test Accuracy</th>\n",
       "      <th>Test F1</th>\n",
       "      <th>Test Precision</th>\n",
       "      <th>Test Recall</th>\n",
       "      <th>AUC Score</th>\n",
       "    </tr>\n",
       "  </thead>\n",
       "  <tbody>\n",
       "    <tr>\n",
       "      <td>0</td>\n",
       "      <td>Logistic Regression</td>\n",
       "      <td>0.83</td>\n",
       "      <td>0.82</td>\n",
       "      <td>0.85</td>\n",
       "      <td>0.79</td>\n",
       "      <td>0.931034</td>\n",
       "    </tr>\n",
       "    <tr>\n",
       "      <td>1</td>\n",
       "      <td>K-Nearest Neighbours</td>\n",
       "      <td>0.80</td>\n",
       "      <td>0.79</td>\n",
       "      <td>0.81</td>\n",
       "      <td>0.76</td>\n",
       "      <td>0.894883</td>\n",
       "    </tr>\n",
       "    <tr>\n",
       "      <td>2</td>\n",
       "      <td>Decision Tree</td>\n",
       "      <td>0.75</td>\n",
       "      <td>0.74</td>\n",
       "      <td>0.75</td>\n",
       "      <td>0.72</td>\n",
       "      <td>0.749166</td>\n",
       "    </tr>\n",
       "    <tr>\n",
       "      <td>3</td>\n",
       "      <td>Random Forrest</td>\n",
       "      <td>0.80</td>\n",
       "      <td>0.78</td>\n",
       "      <td>0.84</td>\n",
       "      <td>0.72</td>\n",
       "      <td>0.927697</td>\n",
       "    </tr>\n",
       "    <tr>\n",
       "      <td>4</td>\n",
       "      <td>XGBoost</td>\n",
       "      <td>0.87</td>\n",
       "      <td>0.86</td>\n",
       "      <td>0.86</td>\n",
       "      <td>0.86</td>\n",
       "      <td>0.924360</td>\n",
       "    </tr>\n",
       "  </tbody>\n",
       "</table>\n",
       "</div>"
      ],
      "text/plain": [
       "                  Model  Test Accuracy  Test F1  Test Precision  Test Recall  \\\n",
       "0   Logistic Regression           0.83     0.82            0.85         0.79   \n",
       "1  K-Nearest Neighbours           0.80     0.79            0.81         0.76   \n",
       "2         Decision Tree           0.75     0.74            0.75         0.72   \n",
       "3        Random Forrest           0.80     0.78            0.84         0.72   \n",
       "4               XGBoost           0.87     0.86            0.86         0.86   \n",
       "\n",
       "   AUC Score  \n",
       "0   0.931034  \n",
       "1   0.894883  \n",
       "2   0.749166  \n",
       "3   0.927697  \n",
       "4   0.924360  "
      ]
     },
     "metadata": {},
     "output_type": "display_data"
    },
    {
     "name": "stdout",
     "output_type": "stream",
     "text": [
      "Model Tuning\n"
     ]
    },
    {
     "data": {
      "text/html": [
       "<div>\n",
       "<style scoped>\n",
       "    .dataframe tbody tr th:only-of-type {\n",
       "        vertical-align: middle;\n",
       "    }\n",
       "\n",
       "    .dataframe tbody tr th {\n",
       "        vertical-align: top;\n",
       "    }\n",
       "\n",
       "    .dataframe thead th {\n",
       "        text-align: right;\n",
       "    }\n",
       "</style>\n",
       "<table border=\"1\" class=\"dataframe\">\n",
       "  <thead>\n",
       "    <tr style=\"text-align: right;\">\n",
       "      <th></th>\n",
       "      <th>Model</th>\n",
       "      <th>Test Accuracy</th>\n",
       "      <th>Test F1</th>\n",
       "      <th>Test Precision</th>\n",
       "      <th>Test Recall</th>\n",
       "      <th>AUC Score</th>\n",
       "    </tr>\n",
       "  </thead>\n",
       "  <tbody>\n",
       "    <tr>\n",
       "      <td>0</td>\n",
       "      <td>Logistic Regression</td>\n",
       "      <td>0.83</td>\n",
       "      <td>0.82</td>\n",
       "      <td>0.85</td>\n",
       "      <td>0.79</td>\n",
       "      <td>0.931034</td>\n",
       "    </tr>\n",
       "    <tr>\n",
       "      <td>1</td>\n",
       "      <td>K-Nearest Neighbours</td>\n",
       "      <td>0.82</td>\n",
       "      <td>0.81</td>\n",
       "      <td>0.82</td>\n",
       "      <td>0.79</td>\n",
       "      <td>0.895996</td>\n",
       "    </tr>\n",
       "    <tr>\n",
       "      <td>2</td>\n",
       "      <td>Decision Tree</td>\n",
       "      <td>0.80</td>\n",
       "      <td>0.77</td>\n",
       "      <td>0.87</td>\n",
       "      <td>0.69</td>\n",
       "      <td>0.845940</td>\n",
       "    </tr>\n",
       "    <tr>\n",
       "      <td>3</td>\n",
       "      <td>Random Forrest</td>\n",
       "      <td>0.78</td>\n",
       "      <td>0.75</td>\n",
       "      <td>0.83</td>\n",
       "      <td>0.69</td>\n",
       "      <td>0.935484</td>\n",
       "    </tr>\n",
       "    <tr>\n",
       "      <td>4</td>\n",
       "      <td>XGBoost</td>\n",
       "      <td>0.85</td>\n",
       "      <td>0.84</td>\n",
       "      <td>0.86</td>\n",
       "      <td>0.83</td>\n",
       "      <td>0.919911</td>\n",
       "    </tr>\n",
       "  </tbody>\n",
       "</table>\n",
       "</div>"
      ],
      "text/plain": [
       "                  Model  Test Accuracy  Test F1  Test Precision  Test Recall  \\\n",
       "0   Logistic Regression           0.83     0.82            0.85         0.79   \n",
       "1  K-Nearest Neighbours           0.82     0.81            0.82         0.79   \n",
       "2         Decision Tree           0.80     0.77            0.87         0.69   \n",
       "3        Random Forrest           0.78     0.75            0.83         0.69   \n",
       "4               XGBoost           0.85     0.84            0.86         0.83   \n",
       "\n",
       "   AUC Score  \n",
       "0   0.931034  \n",
       "1   0.895996  \n",
       "2   0.845940  \n",
       "3   0.935484  \n",
       "4   0.919911  "
      ]
     },
     "metadata": {},
     "output_type": "display_data"
    }
   ],
   "source": [
    "print('Base Model')\n",
    "display(results[['Model', 'Test Accuracy', 'Test F1', 'Test Precision', 'Test Recall', 'AUC Score']])\n",
    "print('Model Tuning')\n",
    "display(rscv_results[['Model', 'Test Accuracy', 'Test F1', 'Test Precision', 'Test Recall', 'AUC Score']])"
   ]
  },
  {
   "cell_type": "code",
   "execution_count": 44,
   "metadata": {},
   "outputs": [],
   "source": [
    "xgbclf = XGBClassifier()\n",
    "xgbclf.fit(X_train_transformed, y_train)\n",
    "training_preds = xgbclf.predict(X_train_transformed)\n",
    "val_preds = xgbclf.predict(X_test_transformed)\n",
    "training_accuracy = accuracy_score(y_train, training_preds)\n",
    "val_accuracy = accuracy_score(y_test, val_preds)"
   ]
  },
  {
   "cell_type": "code",
   "execution_count": 45,
   "metadata": {},
   "outputs": [
    {
     "name": "stdout",
     "output_type": "stream",
     "text": [
      "[[27  4]\n",
      " [ 4 25]]\n",
      "              precision    recall  f1-score   support\n",
      "\n",
      "           0       0.87      0.87      0.87        31\n",
      "           1       0.86      0.86      0.86        29\n",
      "\n",
      "    accuracy                           0.87        60\n",
      "   macro avg       0.87      0.87      0.87        60\n",
      "weighted avg       0.87      0.87      0.87        60\n",
      "\n"
     ]
    }
   ],
   "source": [
    "# Confusion matrix and classification report\n",
    "print(confusion_matrix(y_test, val_preds))\n",
    "\n",
    "print(classification_report(y_test, val_preds))"
   ]
  },
  {
   "cell_type": "code",
   "execution_count": 46,
   "metadata": {},
   "outputs": [
    {
     "data": {
      "image/png": "[encoded data removed]",
      "text/plain": [
       "<Figure size 576x576 with 1 Axes>"
      ]
     },
     "metadata": {},
     "output_type": "display_data"
    }
   ],
   "source": [
    "plot_feature_importances(xgbclf)"
   ]
  },
  {
   "cell_type": "markdown",
   "metadata": {},
   "source": [
    "The most important features are chest pain type Asymptomatic and 0 number of major vessels colored by flourosopy. This is based off of the model XGBoost which produced the highest recall score. "
   ]
  },
  {
   "cell_type": "markdown",
   "metadata": {},
   "source": [
    "# Conclusion"
   ]
  },
  {
   "cell_type": "markdown",
   "metadata": {},
   "source": [
    "To summarize everything above, we can see from above that to correctly classified a patient as having heart disease we need to consider the following features.\n",
    "\n",
    "1) Gender of the individual - Males have a higher chance at having heart disease than females.\n",
    "\n",
    "2) Asymptomatic Chest Pain - Individuals with this type of chest pain have a high chance of having heart disease\n",
    "\n",
    "3) Reversible Defect - If the thalium stress result turns out to be reversable defect, the individual would have a high chance of having heart disease.\n",
    "\n",
    "4) Age & Maximum Heart Rate - As you get older, your maximum heart rate goes down. We can see that individuals that have heart disease tend to be older and have a lower maximum heart rate. \n",
    "\n",
    "Our modeling shows that a regular XGBoost is the best model for our problem. This is because we want a model that generates a high recall value in order to minimize the chance of us classifying an individual as false negatives. We are classifying individuals with heart disease, if we classify someone with no heart disease and they do have it would be really bad. For other modelings that we did, please review the codes above.\n",
    "\n",
    "Best Model for the following things:\n",
    "\n",
    "* AUC - Random Forest with GridSearchCV\n",
    "\n",
    "* Accuracy - XGBoost\n",
    "\n",
    "* Precision - Decision Tree with GridSearchCV\n",
    "\n",
    "* F1 Score - XGBoost\n",
    "\n",
    "* Recall - XGBoost"
   ]
  }
 ],
 "metadata": {
  "kernelspec": {
   "display_name": "Python 3",
   "language": "python",
   "name": "python3"
  },
  "language_info": {
   "codemirror_mode": {
    "name": "ipython",
    "version": 3
   },
   "file_extension": ".py",
   "mimetype": "text/x-python",
   "name": "python",
   "nbconvert_exporter": "python",
   "pygments_lexer": "ipython3",
   "version": "3.6.9"
  },
  "toc": {
   "base_numbering": 1,
   "nav_menu": {},
   "number_sections": true,
   "sideBar": true,
   "skip_h1_title": false,
   "title_cell": "Table of Contents",
   "title_sidebar": "Contents",
   "toc_cell": true,
   "toc_position": {},
   "toc_section_display": true,
   "toc_window_display": false
  }
 },
 "nbformat": 4,
 "nbformat_minor": 2
}
